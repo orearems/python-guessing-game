{
 "cells": [
  {
   "cell_type": "code",
   "execution_count": 1,
   "id": "d698dab5",
   "metadata": {},
   "outputs": [
    {
     "name": "stdout",
     "output_type": "stream",
     "text": [
      "Type a lucky number: \n",
      "please type a number next time.\n",
      "Type a lucky number: i\n",
      "please type a number next time.\n",
      "Type a lucky number: 0\n",
      "0\n",
      "Please, input a number larger than 0.\n",
      "Type a lucky number: 4\n",
      "3\n",
      "Guess a number between 0 and 4\n",
      "Guess a number:1\n",
      "Wrong! Try again!\n",
      "Guess a number between 0 and 4\n",
      "Guess a number:2\n",
      "Wrong! Try again!\n",
      "Guess a number between 0 and 4\n",
      "Guess a number:8\n",
      "Wrong! Try again!\n",
      "Guess a number between 0 and 4\n",
      "Guess a number:3\n",
      "you got it!\n",
      "You got it after 4 guesses\n"
     ]
    }
   ],
   "source": [
    "import random\n",
    "\n",
    "#top_of_range = input(\"Type a number: \")\n",
    "\n",
    "while True:\n",
    "    top_of_range = input(\"Type a lucky number: \")\n",
    "    if top_of_range.isdigit():\n",
    "        top_of_range = int(top_of_range)\n",
    "        random_number = random.randint(0, top_of_range)\n",
    "        print (random_number)\n",
    "        \n",
    "        guesses=0\n",
    "\n",
    "        if top_of_range <= 0:\n",
    "            print ('Please, input a number larger than 0.')\n",
    "            continue\n",
    "        \n",
    "        while True:            \n",
    "            print(\"Guess a number between 0 and\",top_of_range)\n",
    "            guesses += 1\n",
    "            user_guess = input (\"Guess a number:\")\n",
    "            if user_guess.isdigit():\n",
    "                user_guess = int(user_guess)\n",
    "\n",
    "            else:\n",
    "                print('please type a number next time.')\n",
    "\n",
    "\n",
    "            if user_guess == random_number:\n",
    "                print (\"you got it!\")\n",
    "                break\n",
    "\n",
    "            else:\n",
    "                print (\"Wrong! Try again!\")\n",
    "\n",
    "        if guesses <= 1:\n",
    "            print(\"You got it after\", guesses, \"guess\") \n",
    "            break\n",
    "\n",
    "        else:\n",
    "            print(\"You got it after\", guesses, \"guesses\")\n",
    "            break\n",
    "          \n",
    "    else:\n",
    "        print('please type a number next time.')"
   ]
  },
  {
   "cell_type": "code",
   "execution_count": null,
   "id": "72ed2ae4",
   "metadata": {},
   "outputs": [],
   "source": []
  },
  {
   "cell_type": "code",
   "execution_count": null,
   "id": "3361f1e1",
   "metadata": {},
   "outputs": [],
   "source": []
  }
 ],
 "metadata": {
  "kernelspec": {
   "display_name": "Python 3",
   "language": "python",
   "name": "python3"
  },
  "language_info": {
   "codemirror_mode": {
    "name": "ipython",
    "version": 3
   },
   "file_extension": ".py",
   "mimetype": "text/x-python",
   "name": "python",
   "nbconvert_exporter": "python",
   "pygments_lexer": "ipython3",
   "version": "3.8.8"
  }
 },
 "nbformat": 4,
 "nbformat_minor": 5
}
